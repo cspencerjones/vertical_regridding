{
 "cells": [
  {
   "cell_type": "markdown",
   "metadata": {},
   "source": [
    "# Vertical regridding and remapping of CMIP6 ocean data in the cloud\n",
    "## C Spencer Jones, Julius Busecke, Takaya Uchida and Ryan Abernathey"
   ]
  },
  {
   "cell_type": "code",
   "execution_count": 1,
   "metadata": {},
   "outputs": [],
   "source": [
    "#conda install xarray=0.15.0\n",
    "#conda install -c conda-forge xarrayutils"
   ]
  },
  {
   "cell_type": "code",
   "execution_count": 2,
   "metadata": {},
   "outputs": [],
   "source": [
    "import numpy as np\n",
    "import pandas as pd\n",
    "import xarray as xr\n",
    "import zarr\n",
    "import gcsfs\n",
    "import matplotlib.pyplot as plt\n",
    "import time"
   ]
  },
  {
   "cell_type": "code",
   "execution_count": 3,
   "metadata": {},
   "outputs": [],
   "source": [
    "df = pd.read_csv('https://storage.googleapis.com/cmip6/cmip6-zarr-consolidated-stores.csv')\n",
    "# this only needs to be created once\n",
    "gcs = gcsfs.GCSFileSystem(token='anon')\n",
    "df_sub = df.query(\"source_id == 'ACCESS-ESM1-5' and member_id=='r1i1p1f1' and table_id=='Omon' and (experiment_id=='ssp126' or experiment_id=='ssp585') and \\\n",
    "                            (variable_id=='thetao' or variable_id=='so')\")"
   ]
  },
  {
   "cell_type": "code",
   "execution_count": 4,
   "metadata": {},
   "outputs": [],
   "source": [
    "df_sub.zstore.values\n",
    "my_values = df_sub.zstore.values"
   ]
  },
  {
   "cell_type": "code",
   "execution_count": 5,
   "metadata": {},
   "outputs": [],
   "source": [
    "# get the path to a specific zarr store (ps)\n",
    "zstore = my_values[0]\n",
    "# create a mutable-mapping-style interface to the store\n",
    "mapper = gcs.get_mapper(zstore)\n",
    "# open it using xarray and zarr\n",
    "ds_so_ssp126 = xr.open_zarr(mapper, consolidated=True)\n",
    "\n",
    "# get the path to a specific zarr store (ps)\n",
    "zstore = my_values[1]\n",
    "# create a mutable-mapping-style interface to the store\n",
    "mapper = gcs.get_mapper(zstore)\n",
    "# open it using xarray and zarr\n",
    "ds_thetao_ssp126 = xr.open_zarr(mapper, consolidated=True)\n",
    "\n",
    "# get the path to a specific zarr store (ps)\n",
    "zstore = my_values[2]\n",
    "# create a mutable-mapping-style interface to the store\n",
    "mapper = gcs.get_mapper(zstore)\n",
    "# open it using xarray and zarr\n",
    "ds_so_ssp585 = xr.open_zarr(mapper, consolidated=True)\n",
    "\n",
    "# get the path to a specific zarr store (ps)\n",
    "zstore = my_values[3]\n",
    "# create a mutable-mapping-style interface to the store\n",
    "mapper = gcs.get_mapper(zstore)\n",
    "# open it using xarray and zarr\n",
    "ds_thetao_ssp585 = xr.open_zarr(mapper, consolidated=True)\n"
   ]
  },
  {
   "cell_type": "code",
   "execution_count": 6,
   "metadata": {},
   "outputs": [],
   "source": [
    "import gsw\n",
    "dens126 = xr.apply_ufunc(gsw.density.sigma0, ds_so_ssp126['so'], ds_thetao_ssp126['thetao'],\n",
    "                      dask='parallelized', output_dtypes=[float, ]\n",
    "                     ).rename('dens').to_dataset()\n",
    "dens585 = xr.apply_ufunc(gsw.density.sigma0, ds_so_ssp585['so'], ds_thetao_ssp585['thetao'],\n",
    "                      dask='parallelized', output_dtypes=[float, ]\n",
    "                     ).rename('dens').to_dataset()"
   ]
  },
  {
   "cell_type": "code",
   "execution_count": 7,
   "metadata": {},
   "outputs": [],
   "source": [
    "#load prerequisites so that both methods are on a level playing field\n",
    "dens126_cs=dens126.isel(i=slice(260,262),time=1031).load()\n",
    "dens585_cs=dens585.isel(i=slice(260,262),time=1031).load()\n",
    "ds_so_ssp126_cs=ds_so_ssp126.isel(i=slice(260,262),time=1031).load()\n",
    "ds_so_ssp585_cs=ds_so_ssp585.isel(i=slice(260,262),time=1031).load()"
   ]
  },
  {
   "cell_type": "code",
   "execution_count": 8,
   "metadata": {},
   "outputs": [],
   "source": [
    "dens126_xau=dens126_cs.assign_coords(lev_bounds=ds_thetao_ssp126.lev_bnds[:,1])\n",
    "so126_xau=ds_so_ssp126_cs.assign_coords(lev_bounds=ds_so_ssp126.lev_bnds[:,1])\n",
    "so126_xau['so']=so126_xau['so'].fillna(0)\n",
    "\n",
    "dens585_xau=dens585_cs.assign_coords(lev_bounds=ds_thetao_ssp585.lev_bnds[:,1])\n",
    "so585_xau=ds_so_ssp585_cs.assign_coords(lev_bounds=ds_so_ssp585.lev_bnds[:,1])\n",
    "so585_xau['so']=so585_xau['so'].fillna(0)"
   ]
  },
  {
   "cell_type": "markdown",
   "metadata": {},
   "source": [
    "# xarrayutils\n",
    "First, we use xarrayutils to look at the salinity as a function of density"
   ]
  },
  {
   "cell_type": "code",
   "execution_count": 9,
   "metadata": {},
   "outputs": [],
   "source": [
    "from xarrayutils.vertical_coordinates import conservative_remap\n",
    "from xarrayutils.vertical_coordinates import linear_interpolation_regrid"
   ]
  },
  {
   "cell_type": "code",
   "execution_count": 10,
   "metadata": {},
   "outputs": [],
   "source": [
    "\n",
    "t_vals = np.hstack([dens126_xau.dens.min().load().data[np.newaxis], np.arange(21.6,28, 0.1), dens126_xau.dens.max().load().data[np.newaxis]])\n",
    "t_vals\n",
    "# for now the results are ordered by the bin values. Since the temperature is decreasing, we need to flip the logical axis.\n",
    "# We could also do that after the regridding, but this seems more elegant.\n",
    "#t_vals = np.flip(t_vals)\n",
    "\n",
    "temperature_values = xr.DataArray(t_vals, coords=[('t', t_vals)]) # define the new temperature grid\n",
    "\n",
    "z_temp_bounds126 = linear_interpolation_regrid(dens126_xau.lev, dens126_xau.dens, temperature_values, z_bounds=dens126_xau.lev_bounds.swap_dims({'lev':\"lev_bounds\"}) ,target_value_dim='t', z_bounds_dim='lev_bounds')\n",
    "z_temp_bounds585 = linear_interpolation_regrid(dens585_xau.lev, dens585_xau.dens, temperature_values, z_bounds=dens585_xau.lev_bounds.swap_dims({'lev':\"lev_bounds\"}) ,target_value_dim='t', z_bounds_dim='lev_bounds')\n"
   ]
  },
  {
   "cell_type": "code",
   "execution_count": 11,
   "metadata": {},
   "outputs": [
    {
     "name": "stderr",
     "output_type": "stream",
     "text": [
      "/srv/conda/envs/notebook/lib/python3.7/site-packages/xarray/core/computation.py:1216: FutureWarning: This DataArray contains multi-dimensional coordinates. In the future, these coordinates will be transposed as well unless you specify transpose_coords=False.\n",
      "  return result.transpose(*[d for d in all_dims if d in result.dims])\n",
      "/srv/conda/envs/notebook/lib/python3.7/site-packages/xarray/core/computation.py:1216: FutureWarning: This DataArray contains multi-dimensional coordinates. In the future, these coordinates will be transposed as well unless you specify transpose_coords=False.\n",
      "  return result.transpose(*[d for d in all_dims if d in result.dims])\n"
     ]
    }
   ],
   "source": [
    "\n",
    "dens126_xau['dens']=dens126_xau['dens'].fillna(28.5)\n",
    "dens585_xau['dens']=dens585_xau['dens'].fillna(28.5)\n",
    "\n",
    "bounds_original = dens126_xau.lev_bounds[0:].swap_dims({'lev':\"lev_bounds\"}) \n",
    "bounds_new = xr.DataArray(np.arange(0,2020, 20), dims=['new_bounds'])\n",
    "\n",
    "# now we can remap the tracer data again (at the moment the depth dimensions have to be explicitly defined).\n",
    "ds_temp_cons126 = conservative_remap(so126_xau.so[1:,:,:].squeeze(),bounds_original, z_temp_bounds126.squeeze(),\n",
    "                                   z_dim='lev', z_bnd_dim='lev_bounds', z_bnd_dim_target='regridded', mask=True) # the associated depth dimensions for each array\n",
    "# # replace the new depth dimension values with the appropriate depth (here the middle of the temperature cell bounds)\n",
    "t_vals = z_temp_bounds126.coords['regridded'].data\n",
    "t_vals = 0.5 * (t_vals[1:] + t_vals[0:-1])\n",
    "\n",
    "ds_temp_cons126.coords['remapped'] = xr.DataArray(t_vals, coords=[('remapped', t_vals)])\n",
    "\n",
    "\n",
    "bounds_original = dens585_xau.lev_bounds[0:].swap_dims({'lev':\"lev_bounds\"}) \n",
    "bounds_new = xr.DataArray(np.arange(0,2020, 20), dims=['new_bounds'])\n",
    "\n",
    "# now we can remap the tracer data again (at the moment the depth dimensions have to be explicitly defined).\n",
    "ds_temp_cons585 = conservative_remap(so585_xau.so[1:,:,:].squeeze(),bounds_original, z_temp_bounds585.squeeze(),\n",
    "                                   z_dim='lev', z_bnd_dim='lev_bounds', z_bnd_dim_target='regridded', mask=True) # the associated depth dimensions for each array\n",
    "# # replace the new depth dimension values with the appropriate depth (here the middle of the temperature cell bounds)\n",
    "t_vals = z_temp_bounds585.coords['regridded'].data\n",
    "t_vals = 0.5 * (t_vals[1:] + t_vals[0:-1])\n",
    "\n",
    "ds_temp_cons585.coords['remapped'] = xr.DataArray(t_vals, coords=[('remapped', t_vals)])\n"
   ]
  },
  {
   "cell_type": "code",
   "execution_count": 12,
   "metadata": {},
   "outputs": [
    {
     "name": "stderr",
     "output_type": "stream",
     "text": [
      "/srv/conda/envs/notebook/lib/python3.7/site-packages/dask/core.py:119: RuntimeWarning: invalid value encountered in greater\n",
      "  return func(*args2)\n",
      "/srv/conda/envs/notebook/lib/python3.7/site-packages/dask/core.py:119: RuntimeWarning: invalid value encountered in true_divide\n",
      "  return func(*args2)\n",
      "/srv/conda/envs/notebook/lib/python3.7/site-packages/dask/array/numpy_compat.py:40: RuntimeWarning: invalid value encountered in true_divide\n",
      "  x = np.divide(x1, x2, out)\n"
     ]
    },
    {
     "data": {
      "text/plain": [
       "0.5036537647247314"
      ]
     },
     "execution_count": 12,
     "metadata": {},
     "output_type": "execute_result"
    }
   ],
   "source": [
    "\n",
    "start=time.time()\n",
    "difference_xau=(ds_temp_cons585.mean('i')-ds_temp_cons126.mean('i')).load()\n",
    "#plt.ylim(34,36)\n",
    "end=time.time()\n",
    "end-start"
   ]
  },
  {
   "cell_type": "code",
   "execution_count": 13,
   "metadata": {},
   "outputs": [
    {
     "data": {
      "image/png": "[encoded data removed]",
      "text/plain": [
       "<Figure size 432x288 with 2 Axes>"
      ]
     },
     "metadata": {
      "needs_background": "light"
     },
     "output_type": "display_data"
    }
   ],
   "source": [
    "difference_xau[:250,:].plot.contourf(x='j',y='remapped',levels=np.arange(-1.5,1.5,0.1),cmap='RdBu_r')\n",
    "plt.gca().invert_yaxis()"
   ]
  },
  {
   "cell_type": "code",
   "execution_count": 14,
   "metadata": {},
   "outputs": [
    {
     "name": "stderr",
     "output_type": "stream",
     "text": [
      "/srv/conda/envs/notebook/lib/python3.7/site-packages/dask/core.py:119: RuntimeWarning: invalid value encountered in greater\n",
      "  return func(*args2)\n",
      "/srv/conda/envs/notebook/lib/python3.7/site-packages/dask/core.py:119: RuntimeWarning: invalid value encountered in true_divide\n",
      "  return func(*args2)\n",
      "/srv/conda/envs/notebook/lib/python3.7/site-packages/dask/array/numpy_compat.py:40: RuntimeWarning: invalid value encountered in true_divide\n",
      "  x = np.divide(x1, x2, out)\n"
     ]
    },
    {
     "data": {
      "image/png": "[encoded data removed]",
      "text/plain": [
       "<Figure size 432x288 with 2 Axes>"
      ]
     },
     "metadata": {
      "needs_background": "light"
     },
     "output_type": "display_data"
    }
   ],
   "source": [
    "(ds_temp_cons126.mean('i')).plot.contourf(x='j',y='remapped',levels=np.arange(34,37,0.1),cmap='RdBu_r')\n",
    "plt.gca().invert_yaxis()"
   ]
  },
  {
   "cell_type": "code",
   "execution_count": 15,
   "metadata": {},
   "outputs": [
    {
     "name": "stderr",
     "output_type": "stream",
     "text": [
      "/srv/conda/envs/notebook/lib/python3.7/site-packages/dask/core.py:119: RuntimeWarning: invalid value encountered in greater\n",
      "  return func(*args2)\n",
      "/srv/conda/envs/notebook/lib/python3.7/site-packages/dask/core.py:119: RuntimeWarning: invalid value encountered in true_divide\n",
      "  return func(*args2)\n"
     ]
    },
    {
     "data": {
      "text/plain": [
       "[<matplotlib.lines.Line2D at 0x7ff485559d68>]"
      ]
     },
     "execution_count": 15,
     "metadata": {},
     "output_type": "execute_result"
    },
    {
     "data": {
      "image/png": "[encoded data removed]",
      "text/plain": [
       "<Figure size 432x288 with 1 Axes>"
      ]
     },
     "metadata": {
      "needs_background": "light"
     },
     "output_type": "display_data"
    }
   ],
   "source": [
    "(ds_temp_cons126)[137,0,:].plot()"
   ]
  },
  {
   "cell_type": "markdown",
   "metadata": {},
   "source": [
    "# xlayers\n",
    "Now we reproduce this result with xlayers and compare the two"
   ]
  },
  {
   "cell_type": "code",
   "execution_count": 16,
   "metadata": {},
   "outputs": [],
   "source": [
    "from xlayers import finegrid, layers\n",
    "from xlayers.core import layers_numpy"
   ]
  },
  {
   "cell_type": "code",
   "execution_count": 17,
   "metadata": {},
   "outputs": [],
   "source": [
    "dens126_xlay=dens126_cs.fillna(28.5).assign_coords(lev_bounds=ds_thetao_ssp126.lev_bnds)\n",
    "dens585_xlay=dens585_cs.fillna(28.5).assign_coords(lev_bounds=ds_thetao_ssp585.lev_bnds)"
   ]
  },
  {
   "cell_type": "code",
   "execution_count": 18,
   "metadata": {},
   "outputs": [],
   "source": [
    "def finegrid_metrics(levs,lev_bnds):\n",
    "    drF = np.diff(lev_bnds,axis=1)\n",
    "    drC = np.concatenate((np.array([levs[0]]),np.diff(levs,axis=0),np.array([lev_bnds[-1,-1]-levs[-1]])))\n",
    "    return(drF,drC)"
   ]
  },
  {
   "cell_type": "code",
   "execution_count": 19,
   "metadata": {},
   "outputs": [
    {
     "name": "stdout",
     "output_type": "stream",
     "text": [
      "Warning: theta_in may not be monotonically ascending/descending\n",
      "Warning: theta_in may not be monotonically ascending/descending\n",
      "Warning: theta_in may not be monotonically ascending/descending\n",
      "Warning: theta_in may not be monotonically ascending/descending\n"
     ]
    }
   ],
   "source": [
    "fine_drf,fine_drc = finegrid_metrics(dens585_xlay.lev.values,dens585_xlay.lev_bnds.values)\n",
    "drf_finer, mapindex, mapfact, cellindex = finegrid.finegrid(np.squeeze(fine_drf),np.squeeze(fine_drc),[fine_drf.size,20])\n",
    "denslayers = np.hstack([dens126_xau.dens.min().load().data[np.newaxis], np.arange(21.6,28, 0.1), dens126_xau.dens.max().load().data[np.newaxis]])\n",
    "v_lay1 = xr.apply_ufunc(layers_numpy, ds_so_ssp126_cs.so, dens126_xlay.dens,#.chunk({'time': 2})\n",
    "                       kwargs={'thetalayers':denslayers,'mapfact':mapfact,\n",
    "                               'mapindex':mapindex,'cellindex':cellindex,\n",
    "                               'drf_finer':drf_finer},\n",
    "                       dask='parallelized', \n",
    "                       input_core_dims=[['lev'],['lev']], output_core_dims=[['Tlev']],\n",
    "                       output_dtypes=[float], output_sizes={'Tlev':denslayers.size}\n",
    "                       )\n",
    "v_lay1 = v_lay1.assign_coords({'Tlev':denslayers})\n",
    "\n",
    "\n",
    "th_lay1 = xr.apply_ufunc(layers_numpy, xr.ones_like(ds_so_ssp126_cs.so), dens126_xlay.dens,#.chunk({'time': 2})\n",
    "                       kwargs={'thetalayers':denslayers,'mapfact':mapfact,\n",
    "                               'mapindex':mapindex,'cellindex':cellindex,\n",
    "                               'drf_finer':drf_finer},\n",
    "                       dask='parallelized', \n",
    "                       input_core_dims=[['lev'],['lev']], output_core_dims=[['Tlev']],\n",
    "                       output_dtypes=[float], output_sizes={'Tlev':denslayers.size}\n",
    "                       )\n",
    "th_lay1 = th_lay1.assign_coords({'Tlev':denslayers})\n",
    "\n",
    "fine_drf,fine_drc = finegrid_metrics(dens585_xlay.lev.values,dens585_xlay.lev_bnds.values)\n",
    "drf_finer, mapindex, mapfact, cellindex = finegrid.finegrid(np.squeeze(fine_drf),np.squeeze(fine_drc),[fine_drf.size,20])\n",
    "v_lay2 = xr.apply_ufunc(layers_numpy, ds_so_ssp585_cs.so, dens585_xlay.dens,#.chunk({'time': 2})\n",
    "                       kwargs={'thetalayers':denslayers,'mapfact':mapfact,\n",
    "                               'mapindex':mapindex,'cellindex':cellindex,\n",
    "                               'drf_finer':drf_finer},\n",
    "                       dask='parallelized', \n",
    "                       input_core_dims=[['lev'],['lev']], output_core_dims=[['Tlev']],\n",
    "                       output_dtypes=[float], output_sizes={'Tlev':denslayers.size}\n",
    "                       )\n",
    "v_lay2 = v_lay2.assign_coords({'Tlev':denslayers})\n",
    "\n",
    "\n",
    "th_lay2 = xr.apply_ufunc(layers_numpy, xr.ones_like(ds_so_ssp585_cs.so), dens585_xlay.dens,#.chunk({'time': 2})\n",
    "                       kwargs={'thetalayers':denslayers,'mapfact':mapfact,\n",
    "                               'mapindex':mapindex,'cellindex':cellindex,\n",
    "                               'drf_finer':drf_finer},\n",
    "                       dask='parallelized', \n",
    "                       input_core_dims=[['lev'],['lev']], output_core_dims=[['Tlev']],\n",
    "                       output_dtypes=[float], output_sizes={'Tlev':denslayers.size}\n",
    "                       )\n",
    "th_lay2 = th_lay2.assign_coords({'Tlev':denslayers})"
   ]
  },
  {
   "cell_type": "code",
   "execution_count": 20,
   "metadata": {},
   "outputs": [
    {
     "name": "stderr",
     "output_type": "stream",
     "text": [
      "/srv/conda/envs/notebook/lib/python3.7/site-packages/xarray/core/nanops.py:142: RuntimeWarning: Mean of empty slice\n",
      "  return np.nanmean(a, axis=axis, dtype=dtype)\n"
     ]
    },
    {
     "data": {
      "text/plain": [
       "0.010289669036865234"
      ]
     },
     "execution_count": 20,
     "metadata": {},
     "output_type": "execute_result"
    }
   ],
   "source": [
    "start=time.time()\n",
    "difference_xlay=(((v_lay2)/(th_lay2)).mean('i')-((v_lay1)/(th_lay1)).mean('i')).load()\n",
    "end=time.time()\n",
    "end-start"
   ]
  },
  {
   "cell_type": "code",
   "execution_count": 21,
   "metadata": {},
   "outputs": [
    {
     "data": {
      "text/plain": [
       "(28, 20)"
      ]
     },
     "execution_count": 21,
     "metadata": {},
     "output_type": "execute_result"
    },
    {
     "data": {
      "image/png": "[encoded data removed]",
      "text/plain": [
       "<Figure size 432x288 with 2 Axes>"
      ]
     },
     "metadata": {
      "needs_background": "light"
     },
     "output_type": "display_data"
    }
   ],
   "source": [
    "difference_xlay[:250,:].plot.contourf(x='j',y='Tlev',levels=np.arange(-1.5,1.5,0.1))#,levels=np.arange(-0.15,0.15,0.01))\n",
    "plt.gca().invert_yaxis()\n",
    "plt.ylim(28,20)"
   ]
  },
  {
   "cell_type": "markdown",
   "metadata": {},
   "source": [
    "# "
   ]
  },
  {
   "cell_type": "code",
   "execution_count": null,
   "metadata": {},
   "outputs": [],
   "source": []
  }
 ],
 "metadata": {
  "kernelspec": {
   "display_name": "Python 3",
   "language": "python",
   "name": "python3"
  },
  "language_info": {
   "codemirror_mode": {
    "name": "ipython",
    "version": 3
   },
   "file_extension": ".py",
   "mimetype": "text/x-python",
   "name": "python",
   "nbconvert_exporter": "python",
   "pygments_lexer": "ipython3",
   "version": "3.7.3"
  }
 },
 "nbformat": 4,
 "nbformat_minor": 4
}
